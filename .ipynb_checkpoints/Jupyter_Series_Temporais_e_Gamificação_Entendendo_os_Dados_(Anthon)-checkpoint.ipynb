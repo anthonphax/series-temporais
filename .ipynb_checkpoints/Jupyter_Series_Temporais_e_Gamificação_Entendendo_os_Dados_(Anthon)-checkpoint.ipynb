{
 "cells": [
  {
   "cell_type": "code",
   "execution_count": 37,
   "metadata": {
    "colab": {
     "base_uri": "https://localhost:8080/"
    },
    "id": "_iaBWzVrIzfG",
    "outputId": "d9688ad2-9a2b-4d96-9609-e8e68e345a0e"
   },
   "outputs": [
    {
     "data": {
      "text/plain": [
       "Componente\n",
       "Tarefa                   6411\n",
       "Envio de arquivos         793\n",
       "Envio de texto online     136\n",
       "Name: count, dtype: int64"
      ]
     },
     "execution_count": 37,
     "metadata": {},
     "output_type": "execute_result"
    }
   ],
   "source": [
    "df[\"Componente\"].value_counts()"
   ]
  },
  {
   "cell_type": "code",
   "execution_count": 38,
   "metadata": {
    "colab": {
     "base_uri": "https://localhost:8080/"
    },
    "id": "-aYI3Eu3I6Rd",
    "outputId": "248ca30e-fab0-4c99-d2e3-d7ae0afae708"
   },
   "outputs": [
    {
     "data": {
      "text/plain": [
       "Nome do evento\n",
       "O status da submissão foi visualizado.    4289\n",
       "Comentário visualizado                    1514\n",
       "Um envio foi submetido.                    608\n",
       "Um arquivo foi enviado.                    542\n",
       "Submissão criada.                          296\n",
       "Um texto online foi envidado.               91\n",
       "Name: count, dtype: int64"
      ]
     },
     "execution_count": 38,
     "metadata": {},
     "output_type": "execute_result"
    }
   ],
   "source": [
    "df[\"Nome do evento\"].value_counts()"
   ]
  },
  {
   "cell_type": "markdown",
   "metadata": {
    "id": "hxjHgD2PKb0A"
   },
   "source": [
    "# Análise Descritiva dos Dados"
   ]
  },
  {
   "cell_type": "markdown",
   "metadata": {
    "id": "nRPxvinNLeod"
   },
   "source": [
    "## Período de coleta\n",
    "- coluna `Hora` para tipo `datetime`.\n",
    "- formato dd/mm/aaaa\n",
    "- reover horas, minutos, segundos"
   ]
  },
  {
   "cell_type": "code",
   "execution_count": 39,
   "metadata": {
    "colab": {
     "base_uri": "https://localhost:8080/"
    },
    "id": "5ZuHZhwEylv7",
    "outputId": "f8aade4f-8c48-4fab-bf4c-936af0310f68"
   },
   "outputs": [
    {
     "name": "stdout",
     "output_type": "stream",
     "text": [
      "<class 'pandas.core.frame.DataFrame'>\n",
      "Index: 7340 entries, 7339 to 3605\n",
      "Data columns (total 8 columns):\n",
      " #   Column              Non-Null Count  Dtype         \n",
      "---  ------              --------------  -----         \n",
      " 0   Hora                7340 non-null   datetime64[ns]\n",
      " 1   ID                  7340 non-null   int64         \n",
      " 2   Contexto do Evento  7340 non-null   object        \n",
      " 3   Componente          7340 non-null   object        \n",
      " 4   Nome do evento      7340 non-null   object        \n",
      " 5   Descrição           7340 non-null   object        \n",
      " 6   Origem              7340 non-null   object        \n",
      " 7   endereço IP         7340 non-null   object        \n",
      "dtypes: datetime64[ns](1), int64(1), object(6)\n",
      "memory usage: 516.1+ KB\n"
     ]
    }
   ],
   "source": [
    "df.info()"
   ]
  },
  {
   "cell_type": "code",
   "execution_count": 40,
   "metadata": {
    "colab": {
     "base_uri": "https://localhost:8080/"
    },
    "id": "mzR_9KS1UrgW",
    "outputId": "c293da87-bef6-4f71-8c76-becf3a5bab7d"
   },
   "outputs": [
    {
     "ename": "AttributeError",
     "evalue": "Can only use .str accessor with string values!",
     "output_type": "error",
     "traceback": [
      "\u001b[0;31m---------------------------------------------------------------------------\u001b[0m",
      "\u001b[0;31mAttributeError\u001b[0m                            Traceback (most recent call last)",
      "Cell \u001b[0;32mIn[40], line 1\u001b[0m\n\u001b[0;32m----> 1\u001b[0m d \u001b[38;5;241m=\u001b[39m \u001b[43mdf\u001b[49m\u001b[43m[\u001b[49m\u001b[38;5;124;43m\"\u001b[39;49m\u001b[38;5;124;43mHora\u001b[39;49m\u001b[38;5;124;43m\"\u001b[39;49m\u001b[43m]\u001b[49m\u001b[38;5;241;43m.\u001b[39;49m\u001b[43mstr\u001b[49m\u001b[38;5;241m.\u001b[39msplit(\u001b[38;5;124m\"\u001b[39m\u001b[38;5;124m \u001b[39m\u001b[38;5;124m\"\u001b[39m, expand\u001b[38;5;241m=\u001b[39m\u001b[38;5;28;01mTrue\u001b[39;00m)[\u001b[38;5;241m0\u001b[39m] \u001b[38;5;66;03m# formato dd/mm/aaaa\u001b[39;00m\n\u001b[1;32m      2\u001b[0m d\n",
      "File \u001b[0;32m~/.local/lib/python3.10/site-packages/pandas/core/generic.py:6204\u001b[0m, in \u001b[0;36mNDFrame.__getattr__\u001b[0;34m(self, name)\u001b[0m\n\u001b[1;32m   6197\u001b[0m \u001b[38;5;28;01mif\u001b[39;00m (\n\u001b[1;32m   6198\u001b[0m     name \u001b[38;5;129;01mnot\u001b[39;00m \u001b[38;5;129;01min\u001b[39;00m \u001b[38;5;28mself\u001b[39m\u001b[38;5;241m.\u001b[39m_internal_names_set\n\u001b[1;32m   6199\u001b[0m     \u001b[38;5;129;01mand\u001b[39;00m name \u001b[38;5;129;01mnot\u001b[39;00m \u001b[38;5;129;01min\u001b[39;00m \u001b[38;5;28mself\u001b[39m\u001b[38;5;241m.\u001b[39m_metadata\n\u001b[1;32m   6200\u001b[0m     \u001b[38;5;129;01mand\u001b[39;00m name \u001b[38;5;129;01mnot\u001b[39;00m \u001b[38;5;129;01min\u001b[39;00m \u001b[38;5;28mself\u001b[39m\u001b[38;5;241m.\u001b[39m_accessors\n\u001b[1;32m   6201\u001b[0m     \u001b[38;5;129;01mand\u001b[39;00m \u001b[38;5;28mself\u001b[39m\u001b[38;5;241m.\u001b[39m_info_axis\u001b[38;5;241m.\u001b[39m_can_hold_identifiers_and_holds_name(name)\n\u001b[1;32m   6202\u001b[0m ):\n\u001b[1;32m   6203\u001b[0m     \u001b[38;5;28;01mreturn\u001b[39;00m \u001b[38;5;28mself\u001b[39m[name]\n\u001b[0;32m-> 6204\u001b[0m \u001b[38;5;28;01mreturn\u001b[39;00m \u001b[38;5;28;43mobject\u001b[39;49m\u001b[38;5;241;43m.\u001b[39;49m\u001b[38;5;21;43m__getattribute__\u001b[39;49m\u001b[43m(\u001b[49m\u001b[38;5;28;43mself\u001b[39;49m\u001b[43m,\u001b[49m\u001b[43m \u001b[49m\u001b[43mname\u001b[49m\u001b[43m)\u001b[49m\n",
      "File \u001b[0;32m~/.local/lib/python3.10/site-packages/pandas/core/accessor.py:224\u001b[0m, in \u001b[0;36mCachedAccessor.__get__\u001b[0;34m(self, obj, cls)\u001b[0m\n\u001b[1;32m    221\u001b[0m \u001b[38;5;28;01mif\u001b[39;00m obj \u001b[38;5;129;01mis\u001b[39;00m \u001b[38;5;28;01mNone\u001b[39;00m:\n\u001b[1;32m    222\u001b[0m     \u001b[38;5;66;03m# we're accessing the attribute of the class, i.e., Dataset.geo\u001b[39;00m\n\u001b[1;32m    223\u001b[0m     \u001b[38;5;28;01mreturn\u001b[39;00m \u001b[38;5;28mself\u001b[39m\u001b[38;5;241m.\u001b[39m_accessor\n\u001b[0;32m--> 224\u001b[0m accessor_obj \u001b[38;5;241m=\u001b[39m \u001b[38;5;28;43mself\u001b[39;49m\u001b[38;5;241;43m.\u001b[39;49m\u001b[43m_accessor\u001b[49m\u001b[43m(\u001b[49m\u001b[43mobj\u001b[49m\u001b[43m)\u001b[49m\n\u001b[1;32m    225\u001b[0m \u001b[38;5;66;03m# Replace the property with the accessor object. Inspired by:\u001b[39;00m\n\u001b[1;32m    226\u001b[0m \u001b[38;5;66;03m# https://www.pydanny.com/cached-property.html\u001b[39;00m\n\u001b[1;32m    227\u001b[0m \u001b[38;5;66;03m# We need to use object.__setattr__ because we overwrite __setattr__ on\u001b[39;00m\n\u001b[1;32m    228\u001b[0m \u001b[38;5;66;03m# NDFrame\u001b[39;00m\n\u001b[1;32m    229\u001b[0m \u001b[38;5;28mobject\u001b[39m\u001b[38;5;241m.\u001b[39m\u001b[38;5;21m__setattr__\u001b[39m(obj, \u001b[38;5;28mself\u001b[39m\u001b[38;5;241m.\u001b[39m_name, accessor_obj)\n",
      "File \u001b[0;32m~/.local/lib/python3.10/site-packages/pandas/core/strings/accessor.py:190\u001b[0m, in \u001b[0;36mStringMethods.__init__\u001b[0;34m(self, data)\u001b[0m\n\u001b[1;32m    187\u001b[0m \u001b[38;5;28;01mdef\u001b[39;00m \u001b[38;5;21m__init__\u001b[39m(\u001b[38;5;28mself\u001b[39m, data) \u001b[38;5;241m-\u001b[39m\u001b[38;5;241m>\u001b[39m \u001b[38;5;28;01mNone\u001b[39;00m:\n\u001b[1;32m    188\u001b[0m     \u001b[38;5;28;01mfrom\u001b[39;00m \u001b[38;5;21;01mpandas\u001b[39;00m\u001b[38;5;21;01m.\u001b[39;00m\u001b[38;5;21;01mcore\u001b[39;00m\u001b[38;5;21;01m.\u001b[39;00m\u001b[38;5;21;01marrays\u001b[39;00m\u001b[38;5;21;01m.\u001b[39;00m\u001b[38;5;21;01mstring_\u001b[39;00m \u001b[38;5;28;01mimport\u001b[39;00m StringDtype\n\u001b[0;32m--> 190\u001b[0m     \u001b[38;5;28mself\u001b[39m\u001b[38;5;241m.\u001b[39m_inferred_dtype \u001b[38;5;241m=\u001b[39m \u001b[38;5;28;43mself\u001b[39;49m\u001b[38;5;241;43m.\u001b[39;49m\u001b[43m_validate\u001b[49m\u001b[43m(\u001b[49m\u001b[43mdata\u001b[49m\u001b[43m)\u001b[49m\n\u001b[1;32m    191\u001b[0m     \u001b[38;5;28mself\u001b[39m\u001b[38;5;241m.\u001b[39m_is_categorical \u001b[38;5;241m=\u001b[39m \u001b[38;5;28misinstance\u001b[39m(data\u001b[38;5;241m.\u001b[39mdtype, CategoricalDtype)\n\u001b[1;32m    192\u001b[0m     \u001b[38;5;28mself\u001b[39m\u001b[38;5;241m.\u001b[39m_is_string \u001b[38;5;241m=\u001b[39m \u001b[38;5;28misinstance\u001b[39m(data\u001b[38;5;241m.\u001b[39mdtype, StringDtype)\n",
      "File \u001b[0;32m~/.local/lib/python3.10/site-packages/pandas/core/strings/accessor.py:244\u001b[0m, in \u001b[0;36mStringMethods._validate\u001b[0;34m(data)\u001b[0m\n\u001b[1;32m    241\u001b[0m inferred_dtype \u001b[38;5;241m=\u001b[39m lib\u001b[38;5;241m.\u001b[39minfer_dtype(values, skipna\u001b[38;5;241m=\u001b[39m\u001b[38;5;28;01mTrue\u001b[39;00m)\n\u001b[1;32m    243\u001b[0m \u001b[38;5;28;01mif\u001b[39;00m inferred_dtype \u001b[38;5;129;01mnot\u001b[39;00m \u001b[38;5;129;01min\u001b[39;00m allowed_types:\n\u001b[0;32m--> 244\u001b[0m     \u001b[38;5;28;01mraise\u001b[39;00m \u001b[38;5;167;01mAttributeError\u001b[39;00m(\u001b[38;5;124m\"\u001b[39m\u001b[38;5;124mCan only use .str accessor with string values!\u001b[39m\u001b[38;5;124m\"\u001b[39m)\n\u001b[1;32m    245\u001b[0m \u001b[38;5;28;01mreturn\u001b[39;00m inferred_dtype\n",
      "\u001b[0;31mAttributeError\u001b[0m: Can only use .str accessor with string values!"
     ]
    }
   ],
   "source": [
    "d = df[\"Hora\"].str.split(\" \", expand=True)[0] # formato dd/mm/aaaa\n",
    "d"
   ]
  },
  {
   "cell_type": "code",
   "execution_count": 41,
   "metadata": {
    "colab": {
     "base_uri": "https://localhost:8080/"
    },
    "id": "BqKh-okxLkCh",
    "outputId": "940e271c-629e-4637-f657-8d7254993ed5"
   },
   "outputs": [],
   "source": [
    "df['Hora'] = pd.to_datetime(d, format=\"%d/%m/%Y\")"
   ]
  },
  {
   "cell_type": "code",
   "execution_count": 42,
   "metadata": {
    "colab": {
     "base_uri": "https://localhost:8080/"
    },
    "id": "FFFbP-pkwp_Z",
    "outputId": "5a86e927-f419-4e44-ab01-85f0b41adb2f"
   },
   "outputs": [
    {
     "data": {
      "text/plain": [
       "pandas._libs.tslibs.timestamps.Timestamp"
      ]
     },
     "execution_count": 42,
     "metadata": {},
     "output_type": "execute_result"
    }
   ],
   "source": [
    "type(df['Hora'][42])"
   ]
  },
  {
   "cell_type": "code",
   "execution_count": 43,
   "metadata": {
    "id": "dELLB637hC4o"
   },
   "outputs": [],
   "source": [
    "date_range = pd.date_range(start=df['Hora'].min(), end=df['Hora'].max())"
   ]
  },
  {
   "cell_type": "code",
   "execution_count": 44,
   "metadata": {
    "colab": {
     "base_uri": "https://localhost:8080/"
    },
    "id": "vG-R5yDthE5P",
    "outputId": "4953bcb8-0dbd-4f99-9426-8f6e3331050d"
   },
   "outputs": [
    {
     "name": "stdout",
     "output_type": "stream",
     "text": [
      "DatetimeIndex(['2023-03-07', '2023-03-08', '2023-03-09', '2023-03-10',\n",
      "               '2023-03-11', '2023-03-12', '2023-03-13', '2023-03-14',\n",
      "               '2023-03-15', '2023-03-16',\n",
      "               ...\n",
      "               '2023-09-13', '2023-09-14', '2023-09-15', '2023-09-16',\n",
      "               '2023-09-17', '2023-09-18', '2023-09-19', '2023-09-20',\n",
      "               '2023-09-21', '2023-09-22'],\n",
      "              dtype='datetime64[ns]', length=200, freq='D')\n"
     ]
    }
   ],
   "source": [
    "print(date_range)"
   ]
  },
  {
   "cell_type": "code",
   "execution_count": 45,
   "metadata": {
    "id": "Rds1AkuwU9k8"
   },
   "outputs": [],
   "source": [
    "df = df.sort_values(by=['Hora'])"
   ]
  },
  {
   "cell_type": "code",
   "execution_count": 46,
   "metadata": {
    "colab": {
     "base_uri": "https://localhost:8080/",
     "height": 424
    },
    "id": "ChDe0kTuUcGg",
    "outputId": "757818ed-ec9b-4715-e839-5a69db710e68"
   },
   "outputs": [
    {
     "data": {
      "text/html": [
       "<div>\n",
       "<style scoped>\n",
       "    .dataframe tbody tr th:only-of-type {\n",
       "        vertical-align: middle;\n",
       "    }\n",
       "\n",
       "    .dataframe tbody tr th {\n",
       "        vertical-align: top;\n",
       "    }\n",
       "\n",
       "    .dataframe thead th {\n",
       "        text-align: right;\n",
       "    }\n",
       "</style>\n",
       "<table border=\"1\" class=\"dataframe\">\n",
       "  <thead>\n",
       "    <tr style=\"text-align: right;\">\n",
       "      <th></th>\n",
       "      <th>Hora</th>\n",
       "      <th>ID</th>\n",
       "      <th>Contexto do Evento</th>\n",
       "      <th>Componente</th>\n",
       "      <th>Nome do evento</th>\n",
       "      <th>Descrição</th>\n",
       "      <th>Origem</th>\n",
       "      <th>endereço IP</th>\n",
       "    </tr>\n",
       "  </thead>\n",
       "  <tbody>\n",
       "    <tr>\n",
       "      <th>7339</th>\n",
       "      <td>2023-03-07</td>\n",
       "      <td>25</td>\n",
       "      <td>Tarefa: Tarefa do dia 07/03</td>\n",
       "      <td>Tarefa</td>\n",
       "      <td>O status da submissão foi visualizado.</td>\n",
       "      <td>The user with id '18806' has viewed the submis...</td>\n",
       "      <td>web</td>\n",
       "      <td>10.2.130.150</td>\n",
       "    </tr>\n",
       "    <tr>\n",
       "      <th>7331</th>\n",
       "      <td>2023-03-07</td>\n",
       "      <td>25</td>\n",
       "      <td>Tarefa: Tarefa do dia 07/03</td>\n",
       "      <td>Tarefa</td>\n",
       "      <td>O status da submissão foi visualizado.</td>\n",
       "      <td>The user with id '18806' has viewed the submis...</td>\n",
       "      <td>web</td>\n",
       "      <td>2804:ce4:1a2:ce00:e1b8:2af8:313d:ea42</td>\n",
       "    </tr>\n",
       "    <tr>\n",
       "      <th>7332</th>\n",
       "      <td>2023-03-07</td>\n",
       "      <td>32</td>\n",
       "      <td>Tarefa: Tarefa do dia 07/03</td>\n",
       "      <td>Tarefa</td>\n",
       "      <td>O status da submissão foi visualizado.</td>\n",
       "      <td>The user with id '18822' has viewed the submis...</td>\n",
       "      <td>web</td>\n",
       "      <td>2804:ce4:166:3d00:c0fa:e5d2:b486:97ce</td>\n",
       "    </tr>\n",
       "    <tr>\n",
       "      <th>7333</th>\n",
       "      <td>2023-03-07</td>\n",
       "      <td>32</td>\n",
       "      <td>Tarefa: Tarefa do dia 07/03</td>\n",
       "      <td>Tarefa</td>\n",
       "      <td>Um envio foi submetido.</td>\n",
       "      <td>The user with id '18822' has submitted the sub...</td>\n",
       "      <td>web</td>\n",
       "      <td>2804:ce4:166:3d00:c0fa:e5d2:b486:97ce</td>\n",
       "    </tr>\n",
       "    <tr>\n",
       "      <th>7334</th>\n",
       "      <td>2023-03-07</td>\n",
       "      <td>32</td>\n",
       "      <td>Tarefa: Tarefa do dia 07/03</td>\n",
       "      <td>Envio de texto online</td>\n",
       "      <td>Um texto online foi envidado.</td>\n",
       "      <td>The user with id '18822' has saved an online t...</td>\n",
       "      <td>web</td>\n",
       "      <td>2804:ce4:166:3d00:c0fa:e5d2:b486:97ce</td>\n",
       "    </tr>\n",
       "    <tr>\n",
       "      <th>...</th>\n",
       "      <td>...</td>\n",
       "      <td>...</td>\n",
       "      <td>...</td>\n",
       "      <td>...</td>\n",
       "      <td>...</td>\n",
       "      <td>...</td>\n",
       "      <td>...</td>\n",
       "      <td>...</td>\n",
       "    </tr>\n",
       "    <tr>\n",
       "      <th>3616</th>\n",
       "      <td>2023-09-21</td>\n",
       "      <td>34</td>\n",
       "      <td>Tarefa: Tarefa do dia 15/03</td>\n",
       "      <td>Tarefa</td>\n",
       "      <td>Comentário visualizado</td>\n",
       "      <td>The user with id '18826' viewed the feedback f...</td>\n",
       "      <td>web</td>\n",
       "      <td>2804:ce4:147:8400:cc74:1d76:5554:44e2</td>\n",
       "    </tr>\n",
       "    <tr>\n",
       "      <th>3610</th>\n",
       "      <td>2023-09-21</td>\n",
       "      <td>34</td>\n",
       "      <td>Tarefa: Tarefa do dia 15/03</td>\n",
       "      <td>Tarefa</td>\n",
       "      <td>Comentário visualizado</td>\n",
       "      <td>The user with id '18826' viewed the feedback f...</td>\n",
       "      <td>web</td>\n",
       "      <td>168.90.22.93</td>\n",
       "    </tr>\n",
       "    <tr>\n",
       "      <th>3607</th>\n",
       "      <td>2023-09-22</td>\n",
       "      <td>34</td>\n",
       "      <td>Tarefa: Tarefa do dia 15/03</td>\n",
       "      <td>Tarefa</td>\n",
       "      <td>O status da submissão foi visualizado.</td>\n",
       "      <td>The user with id '18826' has viewed the submis...</td>\n",
       "      <td>web</td>\n",
       "      <td>200.18.167.252</td>\n",
       "    </tr>\n",
       "    <tr>\n",
       "      <th>3606</th>\n",
       "      <td>2023-09-22</td>\n",
       "      <td>34</td>\n",
       "      <td>Tarefa: Tarefa do dia 16/03</td>\n",
       "      <td>Tarefa</td>\n",
       "      <td>Comentário visualizado</td>\n",
       "      <td>The user with id '18826' viewed the feedback f...</td>\n",
       "      <td>web</td>\n",
       "      <td>200.18.167.252</td>\n",
       "    </tr>\n",
       "    <tr>\n",
       "      <th>3608</th>\n",
       "      <td>2023-09-22</td>\n",
       "      <td>34</td>\n",
       "      <td>Tarefa: Tarefa do dia 15/03</td>\n",
       "      <td>Tarefa</td>\n",
       "      <td>Comentário visualizado</td>\n",
       "      <td>The user with id '18826' viewed the feedback f...</td>\n",
       "      <td>web</td>\n",
       "      <td>200.18.167.252</td>\n",
       "    </tr>\n",
       "  </tbody>\n",
       "</table>\n",
       "<p>7339 rows × 8 columns</p>\n",
       "</div>"
      ],
      "text/plain": [
       "           Hora  ID           Contexto do Evento             Componente  \\\n",
       "7339 2023-03-07  25  Tarefa: Tarefa do dia 07/03                 Tarefa   \n",
       "7331 2023-03-07  25  Tarefa: Tarefa do dia 07/03                 Tarefa   \n",
       "7332 2023-03-07  32  Tarefa: Tarefa do dia 07/03                 Tarefa   \n",
       "7333 2023-03-07  32  Tarefa: Tarefa do dia 07/03                 Tarefa   \n",
       "7334 2023-03-07  32  Tarefa: Tarefa do dia 07/03  Envio de texto online   \n",
       "...         ...  ..                          ...                    ...   \n",
       "3616 2023-09-21  34  Tarefa: Tarefa do dia 15/03                 Tarefa   \n",
       "3610 2023-09-21  34  Tarefa: Tarefa do dia 15/03                 Tarefa   \n",
       "3607 2023-09-22  34  Tarefa: Tarefa do dia 15/03                 Tarefa   \n",
       "3606 2023-09-22  34  Tarefa: Tarefa do dia 16/03                 Tarefa   \n",
       "3608 2023-09-22  34  Tarefa: Tarefa do dia 15/03                 Tarefa   \n",
       "\n",
       "                              Nome do evento  \\\n",
       "7339  O status da submissão foi visualizado.   \n",
       "7331  O status da submissão foi visualizado.   \n",
       "7332  O status da submissão foi visualizado.   \n",
       "7333                 Um envio foi submetido.   \n",
       "7334           Um texto online foi envidado.   \n",
       "...                                      ...   \n",
       "3616                  Comentário visualizado   \n",
       "3610                  Comentário visualizado   \n",
       "3607  O status da submissão foi visualizado.   \n",
       "3606                  Comentário visualizado   \n",
       "3608                  Comentário visualizado   \n",
       "\n",
       "                                              Descrição Origem  \\\n",
       "7339  The user with id '18806' has viewed the submis...    web   \n",
       "7331  The user with id '18806' has viewed the submis...    web   \n",
       "7332  The user with id '18822' has viewed the submis...    web   \n",
       "7333  The user with id '18822' has submitted the sub...    web   \n",
       "7334  The user with id '18822' has saved an online t...    web   \n",
       "...                                                 ...    ...   \n",
       "3616  The user with id '18826' viewed the feedback f...    web   \n",
       "3610  The user with id '18826' viewed the feedback f...    web   \n",
       "3607  The user with id '18826' has viewed the submis...    web   \n",
       "3606  The user with id '18826' viewed the feedback f...    web   \n",
       "3608  The user with id '18826' viewed the feedback f...    web   \n",
       "\n",
       "                                endereço IP  \n",
       "7339                           10.2.130.150  \n",
       "7331  2804:ce4:1a2:ce00:e1b8:2af8:313d:ea42  \n",
       "7332  2804:ce4:166:3d00:c0fa:e5d2:b486:97ce  \n",
       "7333  2804:ce4:166:3d00:c0fa:e5d2:b486:97ce  \n",
       "7334  2804:ce4:166:3d00:c0fa:e5d2:b486:97ce  \n",
       "...                                     ...  \n",
       "3616  2804:ce4:147:8400:cc74:1d76:5554:44e2  \n",
       "3610                           168.90.22.93  \n",
       "3607                         200.18.167.252  \n",
       "3606                         200.18.167.252  \n",
       "3608                         200.18.167.252  \n",
       "\n",
       "[7339 rows x 8 columns]"
      ]
     },
     "execution_count": 46,
     "metadata": {},
     "output_type": "execute_result"
    }
   ],
   "source": [
    "df.head(-1)"
   ]
  },
  {
   "cell_type": "code",
   "execution_count": 47,
   "metadata": {
    "colab": {
     "base_uri": "https://localhost:8080/",
     "height": 430
    },
    "id": "a_48XceK1HJc",
    "outputId": "ef320ca6-bc02-48e3-93e3-7617fb2c6ef1"
   },
   "outputs": [
    {
     "data": {
      "image/png": "[encoded data removed]",
      "text/plain": [
       "<Figure size 640x480 with 1 Axes>"
      ]
     },
     "metadata": {},
     "output_type": "display_data"
    }
   ],
   "source": [
    "from matplotlib import pyplot as plt\n",
    "import seaborn as sns\n",
    "df.groupby('Nome do evento').size().plot(kind='barh', color=sns.palettes.mpl_palette('Dark2'))\n",
    "plt.gca().spines[['top', 'right',]].set_visible(False)"
   ]
  },
  {
   "cell_type": "markdown",
   "metadata": {
    "id": "sehPFO6DN7HQ"
   },
   "source": [
    "## Número total de interações"
   ]
  },
  {
   "cell_type": "code",
   "execution_count": 49,
   "metadata": {
    "colab": {
     "base_uri": "https://localhost:8080/"
    },
    "id": "kQl6YgouOA7A",
    "outputId": "7d65d964-214d-4e12-b16b-a74b9d12b4a7"
   },
   "outputs": [
    {
     "name": "stdout",
     "output_type": "stream",
     "text": [
      "<class 'pandas.core.frame.DataFrame'>\n",
      "Index: 7340 entries, 7339 to 3605\n",
      "Data columns (total 8 columns):\n",
      " #   Column              Non-Null Count  Dtype         \n",
      "---  ------              --------------  -----         \n",
      " 0   Hora                7340 non-null   datetime64[ns]\n",
      " 1   ID                  7340 non-null   int64         \n",
      " 2   Contexto do Evento  7340 non-null   object        \n",
      " 3   Componente          7340 non-null   object        \n",
      " 4   Nome do evento      7340 non-null   object        \n",
      " 5   Descrição           7340 non-null   object        \n",
      " 6   Origem              7340 non-null   object        \n",
      " 7   endereço IP         7340 non-null   object        \n",
      "dtypes: datetime64[ns](1), int64(1), object(6)\n",
      "memory usage: 516.1+ KB\n"
     ]
    }
   ],
   "source": [
    "df.info()\n",
    "#7340 entries"
   ]
  },
  {
   "cell_type": "code",
   "execution_count": 51,
   "metadata": {
    "colab": {
     "base_uri": "https://localhost:8080/"
    },
    "id": "vv5Ai0qhvacY",
    "outputId": "13b7842d-24c3-41e7-ecc5-d6fb7fac4436"
   },
   "outputs": [
    {
     "data": {
      "text/plain": [
       "Hora\n",
       "2023-04-12      1\n",
       "2023-05-12      1\n",
       "2023-05-14      1\n",
       "2023-05-16      1\n",
       "2023-04-19      2\n",
       "             ... \n",
       "2023-04-03    394\n",
       "2023-03-31    455\n",
       "2023-03-13    464\n",
       "2023-03-22    508\n",
       "2023-03-24    554\n",
       "Name: count, Length: 81, dtype: int64"
      ]
     },
     "execution_count": 51,
     "metadata": {},
     "output_type": "execute_result"
    }
   ],
   "source": [
    "df['Hora'].value_counts(ascending=True) # Interações em cada um dos dias em que dados foram coletados"
   ]
  },
  {
   "cell_type": "markdown",
   "metadata": {
    "id": "vHKMfJJ8OFNH"
   },
   "source": [
    "## Quantidade de estudantes"
   ]
  },
  {
   "cell_type": "code",
   "execution_count": 52,
   "metadata": {
    "colab": {
     "base_uri": "https://localhost:8080/"
    },
    "id": "HE0kWmOpOMoo",
    "outputId": "728502b0-d3a0-4222-f46b-e2bfa23a38db"
   },
   "outputs": [
    {
     "name": "stdout",
     "output_type": "stream",
     "text": [
      "40\n"
     ]
    }
   ],
   "source": [
    "set_id_alunos = set(df['ID'].values)\n",
    "print(len(set_id_alunos))"
   ]
  },
  {
   "cell_type": "code",
   "execution_count": 53,
   "metadata": {
    "colab": {
     "base_uri": "https://localhost:8080/"
    },
    "id": "vPwRM5GLjzSA",
    "outputId": "5d20672a-a35e-4544-cb1c-836d1d3f9fcf"
   },
   "outputs": [
    {
     "data": {
      "text/plain": [
       "ID\n",
       "1     129\n",
       "2     173\n",
       "3      43\n",
       "4     198\n",
       "5      59\n",
       "6     295\n",
       "7     126\n",
       "8     171\n",
       "9     172\n",
       "10    382\n",
       "11    107\n",
       "12    140\n",
       "13    217\n",
       "14    127\n",
       "15    190\n",
       "16    233\n",
       "17    405\n",
       "18      4\n",
       "19     87\n",
       "20    233\n",
       "21    114\n",
       "22     97\n",
       "23    161\n",
       "24    549\n",
       "25    234\n",
       "26    129\n",
       "27    113\n",
       "28    230\n",
       "29    122\n",
       "30    263\n",
       "31    102\n",
       "32    226\n",
       "33    131\n",
       "34    393\n",
       "35    332\n",
       "36     46\n",
       "37    248\n",
       "38     48\n",
       "39    201\n",
       "40    110\n",
       "Name: count, dtype: int64"
      ]
     },
     "execution_count": 53,
     "metadata": {},
     "output_type": "execute_result"
    }
   ],
   "source": [
    "df['ID'].value_counts(ascending=True).sort_index() # Interações por aluno"
   ]
  },
  {
   "cell_type": "markdown",
   "metadata": {
    "id": "2RwjY-4sRrUq"
   },
   "source": [
    "# Preparação dos Dados para Forecasting"
   ]
  },
  {
   "cell_type": "code",
   "execution_count": 63,
   "metadata": {
    "colab": {
     "base_uri": "https://localhost:8080/"
    },
    "id": "fhTbPxIL20sq",
    "outputId": "3b1c95f5-3b04-4c18-acfc-82965eb4e83f"
   },
   "outputs": [
    {
     "name": "stdout",
     "output_type": "stream",
     "text": [
      "{'Hora': 0, 'ID': 1, 'Contexto do Evento': 2, 'Componente': 3, 'Nome do evento': 4, 'Descrição': 5, 'Origem': 6, 'endereço IP': 7}\n",
      "<class 'pandas.core.frame.DataFrame'>\n",
      "Index: 5138 entries, 7339 to 1089\n",
      "Data columns (total 8 columns):\n",
      " #   Column              Non-Null Count  Dtype         \n",
      "---  ------              --------------  -----         \n",
      " 0   Hora                5138 non-null   datetime64[ns]\n",
      " 1   ID                  5138 non-null   int64         \n",
      " 2   Contexto do Evento  5138 non-null   object        \n",
      " 3   Componente          5138 non-null   object        \n",
      " 4   Nome do evento      5138 non-null   object        \n",
      " 5   Descrição           5138 non-null   object        \n",
      " 6   Origem              5138 non-null   object        \n",
      " 7   endereço IP         5138 non-null   object        \n",
      "dtypes: datetime64[ns](1), int64(1), object(6)\n",
      "memory usage: 361.3+ KB\n",
      "<class 'pandas.core.frame.DataFrame'>\n",
      "Index: 1468 entries, 1088 to 3998\n",
      "Data columns (total 8 columns):\n",
      " #   Column              Non-Null Count  Dtype         \n",
      "---  ------              --------------  -----         \n",
      " 0   Hora                1468 non-null   datetime64[ns]\n",
      " 1   ID                  1468 non-null   int64         \n",
      " 2   Contexto do Evento  1468 non-null   object        \n",
      " 3   Componente          1468 non-null   object        \n",
      " 4   Nome do evento      1468 non-null   object        \n",
      " 5   Descrição           1468 non-null   object        \n",
      " 6   Origem              1468 non-null   object        \n",
      " 7   endereço IP         1468 non-null   object        \n",
      "dtypes: datetime64[ns](1), int64(1), object(6)\n",
      "memory usage: 103.2+ KB\n",
      "<class 'pandas.core.frame.DataFrame'>\n",
      "Index: 734 entries, 3997 to 3605\n",
      "Data columns (total 8 columns):\n",
      " #   Column              Non-Null Count  Dtype         \n",
      "---  ------              --------------  -----         \n",
      " 0   Hora                734 non-null    datetime64[ns]\n",
      " 1   ID                  734 non-null    int64         \n",
      " 2   Contexto do Evento  734 non-null    object        \n",
      " 3   Componente          734 non-null    object        \n",
      " 4   Nome do evento      734 non-null    object        \n",
      " 5   Descrição           734 non-null    object        \n",
      " 6   Origem              734 non-null    object        \n",
      " 7   endereço IP         734 non-null    object        \n",
      "dtypes: datetime64[ns](1), int64(1), object(6)\n",
      "memory usage: 51.6+ KB\n"
     ]
    }
   ],
   "source": [
    "## Separação de dataset\n",
    "column_indices = {name: i for i, name in enumerate(df.columns)}\n",
    "print(column_indices)\n",
    "n = len(df)\n",
    "train_df = df[0:int(n*0.7)]\n",
    "val_df = df[int(n*0.7):int(n*0.9)]\n",
    "test_df = df[int(n*0.9):]\n",
    "\n",
    "num_features = df.shape[1]\n",
    "\n",
    "\n",
    "train_df.info()\n",
    "val_df.info()\n",
    "test_df.info()"
   ]
  },
  {
   "cell_type": "markdown",
   "metadata": {
    "id": "WB6tYJNsPi08"
   },
   "source": [
    "## Quantidade de interações x Tempo"
   ]
  },
  {
   "cell_type": "code",
   "execution_count": 64,
   "metadata": {
    "id": "OouRdfDJQABc"
   },
   "outputs": [],
   "source": [
    "datas_unicas, acessos = np.unique(df[\"Hora\"], return_counts=True)"
   ]
  },
  {
   "cell_type": "code",
   "execution_count": 65,
   "metadata": {
    "colab": {
     "base_uri": "https://localhost:8080/",
     "height": 548
    },
    "id": "OlzZy6vj08tk",
    "outputId": "465a5936-ed05-48b1-95c9-ca576aa470c3"
   },
   "outputs": [
    {
     "data": {
      "image/png": "[encoded data removed]",
      "text/plain": [
       "<Figure size 1000x520 with 1 Axes>"
      ]
     },
     "metadata": {},
     "output_type": "display_data"
    }
   ],
   "source": [
    "from matplotlib import pyplot as plt\n",
    "import seaborn as sns\n",
    "def _plot_series(series, series_name, series_index=0):\n",
    "  from matplotlib import pyplot as plt\n",
    "  import seaborn as sns\n",
    "  palette = list(sns.palettes.mpl_palette('Dark2'))\n",
    "  counted = (series['Hora']\n",
    "                .value_counts()\n",
    "              .reset_index(name='counts')\n",
    "              .rename({'index': 'Hora'}, axis=1)\n",
    "              .sort_values('Hora', ascending=True))\n",
    "  xs = counted['Hora']\n",
    "  ys = counted['counts']\n",
    "  plt.plot(xs, ys, label=series_name, color=palette[series_index % len(palette)])\n",
    "\n",
    "fig, ax = plt.subplots(figsize=(10, 5.2), layout='constrained')\n",
    "df_sorted = df.sort_values('Hora', ascending=True)\n",
    "for i, (series_name, series) in enumerate(df_sorted.groupby('Componente')):\n",
    "  _plot_series(series, series_name, i)\n",
    "  fig.legend(title='Componente', bbox_to_anchor=(1, 1), loc='upper left')\n",
    "sns.despine(fig=fig, ax=ax)\n",
    "plt.xlabel('Hora')\n",
    "_ = plt.ylabel('count()')"
   ]
  },
  {
   "cell_type": "code",
   "execution_count": 66,
   "metadata": {
    "colab": {
     "base_uri": "https://localhost:8080/",
     "height": 565
    },
    "id": "q_sE-Jjr6lK2",
    "outputId": "c83b71ea-4327-490c-e7f0-f9dacf5f3097"
   },
   "outputs": [
    {
     "data": {
      "image/png": "[encoded data removed]",
      "text/plain": [
       "<Figure size 1000x600 with 1 Axes>"
      ]
     },
     "metadata": {},
     "output_type": "display_data"
    }
   ],
   "source": [
    "plt.figure(figsize=(10, 6))\n",
    "\n",
    "plt.scatter(datas_unicas, acessos, s=acessos, c=acessos, alpha=0.5)\n",
    "\n",
    "plt.title(\"Gráfico de Dispersão\")\n",
    "plt.xlabel(\"Tempo\")\n",
    "plt.ylabel(\"Acessos\")\n",
    "\n",
    "plt.show()"
   ]
  },
  {
   "cell_type": "markdown",
   "metadata": {
    "id": "Jfd-CndlSGZM"
   },
   "source": [
    "## Preenchimento de 'Vazios'\n",
    "\n",
    "O dataset não tem valores faltantes no estilo NAN, por exemplo. Porém, é possível que existam alguns dias do período de coleta de dados em que ocorreram 0 interações. É importante adicionar esses dias com a contagem 0 para que, no momento da análise da série temporal, nosso modelo tenha exemplos de dias/períodos em que ocorreram 0 interações.\n",
    "\n",
    "Então, aqui eu faria\n",
    "- uma iteração por *todos os dias* que existem entre o primeiro dia de coleta e o último\n",
    "- caso algum deles não esteja no conjunto de dados, eu adicionaria este dia com a contagem 0."
   ]
  },
  {
   "cell_type": "code",
   "execution_count": 86,
   "metadata": {},
   "outputs": [],
   "source": [
    "#Não há vazios, provar programaticamente aqui\n",
    "df.fillna(value='', inplace=True)"
   ]
  },
  {
   "cell_type": "markdown",
   "metadata": {
    "id": "-5WgnLxHSvEL"
   },
   "source": [
    "## Criação de Janelas\n",
    "- https://www.mlq.ai/time-series-tensorflow-windows-horizons/\n",
    "- https://www.tensorflow.org/tutorials/structured_data/time_series?hl=pt-br#data_windowing"
   ]
  },
  {
   "cell_type": "code",
   "execution_count": 67,
   "metadata": {
    "id": "WXyurebRANCt"
   },
   "outputs": [],
   "source": [
    "class WindowGenerator():\n",
    "  def __init__(self, input_width, label_width, shift,\n",
    "               train_df=train_df, val_df=val_df, test_df=test_df,\n",
    "               label_columns=None):\n",
    "    # Store the raw data.\n",
    "    self.train_df = train_df\n",
    "    self.val_df = val_df\n",
    "    self.test_df = test_df\n",
    "\n",
    "    # Work out the label column indices.\n",
    "    self.label_columns = label_columns\n",
    "    if label_columns is not None:\n",
    "      self.label_columns_indices = {name: i for i, name in\n",
    "                                    enumerate(label_columns)}\n",
    "    self.column_indices = {name: i for i, name in\n",
    "                           enumerate(train_df.columns)}\n",
    "\n",
    "    # Work out the window parameters.\n",
    "    self.input_width = input_width\n",
    "    self.label_width = label_width\n",
    "    self.shift = shift\n",
    "\n",
    "    self.total_window_size = input_width + shift\n",
    "\n",
    "    self.input_slice = slice(0, input_width)\n",
    "    self.input_indices = np.arange(self.total_window_size)[self.input_slice]\n",
    "\n",
    "    self.label_start = self.total_window_size - self.label_width\n",
    "    self.labels_slice = slice(self.label_start, None)\n",
    "    self.label_indices = np.arange(self.total_window_size)[self.labels_slice]\n",
    "\n",
    "  def __repr__(self):\n",
    "    return '\\n'.join([\n",
    "        f'Total window size: {self.total_window_size}',\n",
    "        f'Input indices: {self.input_indices}',\n",
    "        f'Label indices: {self.label_indices}',\n",
    "        f'Label column name(s): {self.label_columns}'])\n"
   ]
  },
  {
   "cell_type": "code",
   "execution_count": 68,
   "metadata": {
    "id": "8Abiz_5G4MwH"
   },
   "outputs": [
    {
     "name": "stdout",
     "output_type": "stream",
     "text": [
      "Index(['Hora', 'ID', 'Contexto do Evento', 'Componente', 'Nome do evento',\n",
      "       'Descrição', 'Origem', 'endereço IP'],\n",
      "      dtype='object')\n"
     ]
    }
   ],
   "source": [
    "labels = df.columns\n",
    "print(labels)"
   ]
  },
  {
   "cell_type": "code",
   "execution_count": 69,
   "metadata": {},
   "outputs": [
    {
     "data": {
      "text/plain": [
       "Total window size: 8\n",
       "Input indices: [0 1 2 3 4 5 6]\n",
       "Label indices: [7]\n",
       "Label column name(s): Index(['Hora', 'ID', 'Contexto do Evento', 'Componente', 'Nome do evento',\n",
       "       'Descrição', 'Origem', 'endereço IP'],\n",
       "      dtype='object')"
      ]
     },
     "execution_count": 69,
     "metadata": {},
     "output_type": "execute_result"
    }
   ],
   "source": [
    "w1 = WindowGenerator(input_width=7, label_width=1, shift=1,\n",
    "                     label_columns=labels)\n",
    "w1"
   ]
  },
  {
   "cell_type": "markdown",
   "metadata": {
    "id": "1zxyBBCFTOm1"
   },
   "source": [
    "## Análise de Série Temporal"
   ]
  },
  {
   "cell_type": "markdown",
   "metadata": {
    "id": "-34ErMM7rHhn"
   },
   "source": [
    "### Keras Tuner"
   ]
  },
  {
   "cell_type": "code",
   "execution_count": 72,
   "metadata": {
    "id": "iPY--nRLoMlu"
   },
   "outputs": [],
   "source": [
    "import tensorflow as tf\n",
    "from tensorflow import keras\n",
    "from tensorflow.keras import layers\n",
    "from tensorflow.keras.models import Sequential\n",
    "# from kerastuner.tuners import RandomSearch\n",
    "import keras_tuner\n",
    "from sklearn.model_selection import train_test_split"
   ]
  },
  {
   "cell_type": "code",
   "execution_count": 75,
   "metadata": {
    "colab": {
     "base_uri": "https://localhost:8080/"
    },
    "id": "yD6j5X1wrVKo",
    "outputId": "c8d0b7ba-70ca-4c48-8f83-6f447413ed2d"
   },
   "outputs": [
    {
     "name": "stdout",
     "output_type": "stream",
     "text": [
      "Reloading Tuner from my_tuner_directory/my_tuner_project/tuner0.json\n"
     ]
    }
   ],
   "source": [
    "def build_model(hp):\n",
    "    model = Sequential()\n",
    "    model.add(layers.Flatten())\n",
    "    model.add(layers.Dense(units=hp.Int('units', min_value=32, max_value=512, step=32),\n",
    "                           activation='relu', input_shape=(input_shape,)))\n",
    "    model.add(layers.Dense(10, activation=\"relu\"))\n",
    "    model.add(layers.Dense(1, activation=\"softmax\"))\n",
    "\n",
    "    model.compile(optimizer=keras.optimizers.Adam(hp.Choice('learning_rate', values=[1e-2, 1e-3, 1e-4])),\n",
    "                  loss='categorical_crossentropy',\n",
    "                  metrics=['accuracy'])\n",
    "    return model\n",
    "\n",
    "\n",
    "input_shape = len(df.columns)\n",
    "\n",
    "tuner = keras_tuner.RandomSearch(\n",
    "    build_model,\n",
    "    objective='val_accuracy',  # problem\n",
    "    max_trials=5,\n",
    "    directory='my_tuner_directory',  # save results\n",
    "    project_name='my_tuner_project'\n",
    ")"
   ]
  },
  {
   "cell_type": "code",
   "execution_count": 76,
   "metadata": {
    "id": "6GzyM4hepCuh"
   },
   "outputs": [],
   "source": [
    "model_build = build_model(keras_tuner.HyperParameters())"
   ]
  },
  {
   "cell_type": "code",
   "execution_count": 77,
   "metadata": {},
   "outputs": [
    {
     "name": "stdout",
     "output_type": "stream",
     "text": [
      "<method-wrapper '__str__' of Sequential object at 0x7f809dfecf70>\n"
     ]
    }
   ],
   "source": [
    "print(model_build.__str__)"
   ]
  },
  {
   "cell_type": "markdown",
   "metadata": {
    "id": "a-4zeaTCtio3"
   },
   "source": [
    "### Treinamento"
   ]
  },
  {
   "cell_type": "code",
   "execution_count": 88,
   "metadata": {
    "colab": {
     "base_uri": "https://localhost:8080/",
     "height": 1000
    },
    "id": "acy9EbTltIsD",
    "outputId": "4c1f091b-5698-42a0-b1fb-8e755d2df85c"
   },
   "outputs": [
    {
     "name": "stderr",
     "output_type": "stream",
     "text": [
      "Traceback (most recent call last):\n",
      "  File \"/home/anthon/.local/lib/python3.10/site-packages/keras_tuner/src/engine/base_tuner.py\", line 273, in _try_run_and_update_trial\n",
      "    self._run_and_update_trial(trial, *fit_args, **fit_kwargs)\n",
      "  File \"/home/anthon/.local/lib/python3.10/site-packages/keras_tuner/src/engine/base_tuner.py\", line 238, in _run_and_update_trial\n",
      "    results = self.run_trial(trial, *fit_args, **fit_kwargs)\n",
      "  File \"/home/anthon/.local/lib/python3.10/site-packages/keras_tuner/src/engine/tuner.py\", line 314, in run_trial\n",
      "    obj_value = self._build_and_fit_model(trial, *args, **copied_kwargs)\n",
      "  File \"/home/anthon/.local/lib/python3.10/site-packages/keras_tuner/src/engine/tuner.py\", line 233, in _build_and_fit_model\n",
      "    results = self.hypermodel.fit(hp, model, *args, **kwargs)\n",
      "  File \"/home/anthon/.local/lib/python3.10/site-packages/keras_tuner/src/engine/hypermodel.py\", line 149, in fit\n",
      "    return model.fit(*args, **kwargs)\n",
      "  File \"/home/anthon/.local/lib/python3.10/site-packages/keras/src/utils/traceback_utils.py\", line 70, in error_handler\n",
      "    raise e.with_traceback(filtered_tb) from None\n",
      "  File \"/home/anthon/.local/lib/python3.10/site-packages/tensorflow/python/framework/constant_op.py\", line 103, in convert_to_eager_tensor\n",
      "    return ops.EagerTensor(value, ctx.device_name, dtype)\n",
      "ValueError: Failed to convert a NumPy array to a Tensor (Unsupported object type Timestamp).\n"
     ]
    },
    {
     "ename": "RuntimeError",
     "evalue": "Number of consecutive failures exceeded the limit of 3.\nTraceback (most recent call last):\n  File \"/home/anthon/.local/lib/python3.10/site-packages/keras_tuner/src/engine/base_tuner.py\", line 273, in _try_run_and_update_trial\n    self._run_and_update_trial(trial, *fit_args, **fit_kwargs)\n  File \"/home/anthon/.local/lib/python3.10/site-packages/keras_tuner/src/engine/base_tuner.py\", line 238, in _run_and_update_trial\n    results = self.run_trial(trial, *fit_args, **fit_kwargs)\n  File \"/home/anthon/.local/lib/python3.10/site-packages/keras_tuner/src/engine/tuner.py\", line 314, in run_trial\n    obj_value = self._build_and_fit_model(trial, *args, **copied_kwargs)\n  File \"/home/anthon/.local/lib/python3.10/site-packages/keras_tuner/src/engine/tuner.py\", line 233, in _build_and_fit_model\n    results = self.hypermodel.fit(hp, model, *args, **kwargs)\n  File \"/home/anthon/.local/lib/python3.10/site-packages/keras_tuner/src/engine/hypermodel.py\", line 149, in fit\n    return model.fit(*args, **kwargs)\n  File \"/home/anthon/.local/lib/python3.10/site-packages/keras/src/utils/traceback_utils.py\", line 70, in error_handler\n    raise e.with_traceback(filtered_tb) from None\n  File \"/home/anthon/.local/lib/python3.10/site-packages/tensorflow/python/framework/constant_op.py\", line 103, in convert_to_eager_tensor\n    return ops.EagerTensor(value, ctx.device_name, dtype)\nValueError: Failed to convert a NumPy array to a Tensor (Unsupported object type Timestamp).\n",
     "output_type": "error",
     "traceback": [
      "\u001b[0;31m---------------------------------------------------------------------------\u001b[0m",
      "\u001b[0;31mRuntimeError\u001b[0m                              Traceback (most recent call last)",
      "Cell \u001b[0;32mIn[88], line 2\u001b[0m\n\u001b[1;32m      1\u001b[0m \u001b[38;5;66;03m# hyperparameters\u001b[39;00m\n\u001b[0;32m----> 2\u001b[0m \u001b[43mtuner\u001b[49m\u001b[38;5;241;43m.\u001b[39;49m\u001b[43msearch\u001b[49m\u001b[43m(\u001b[49m\u001b[43mx\u001b[49m\u001b[38;5;241;43m=\u001b[39;49m\u001b[43mtrain_df\u001b[49m\u001b[43m[\u001b[49m\u001b[43m:\u001b[49m\u001b[38;5;241;43m1468\u001b[39;49m\u001b[43m]\u001b[49m\u001b[43m,\u001b[49m\u001b[43m \u001b[49m\u001b[43my\u001b[49m\u001b[38;5;241;43m=\u001b[39;49m\u001b[43mval_df\u001b[49m\u001b[43m,\u001b[49m\u001b[43m \u001b[49m\u001b[43mepochs\u001b[49m\u001b[38;5;241;43m=\u001b[39;49m\u001b[38;5;241;43m5\u001b[39;49m\u001b[43m,\u001b[49m\u001b[43m \u001b[49m\u001b[43mvalidation_data\u001b[49m\u001b[38;5;241;43m=\u001b[39;49m\u001b[43m(\u001b[49m\u001b[43mtrain_df\u001b[49m\u001b[43m[\u001b[49m\u001b[43m:\u001b[49m\u001b[38;5;241;43m1468\u001b[39;49m\u001b[43m]\u001b[49m\u001b[43m,\u001b[49m\u001b[43m \u001b[49m\u001b[43mval_df\u001b[49m\u001b[43m)\u001b[49m\u001b[43m)\u001b[49m\n",
      "File \u001b[0;32m~/.local/lib/python3.10/site-packages/keras_tuner/src/engine/base_tuner.py:234\u001b[0m, in \u001b[0;36mBaseTuner.search\u001b[0;34m(self, *fit_args, **fit_kwargs)\u001b[0m\n\u001b[1;32m    232\u001b[0m     \u001b[38;5;28mself\u001b[39m\u001b[38;5;241m.\u001b[39mon_trial_begin(trial)\n\u001b[1;32m    233\u001b[0m     \u001b[38;5;28mself\u001b[39m\u001b[38;5;241m.\u001b[39m_try_run_and_update_trial(trial, \u001b[38;5;241m*\u001b[39mfit_args, \u001b[38;5;241m*\u001b[39m\u001b[38;5;241m*\u001b[39mfit_kwargs)\n\u001b[0;32m--> 234\u001b[0m     \u001b[38;5;28;43mself\u001b[39;49m\u001b[38;5;241;43m.\u001b[39;49m\u001b[43mon_trial_end\u001b[49m\u001b[43m(\u001b[49m\u001b[43mtrial\u001b[49m\u001b[43m)\u001b[49m\n\u001b[1;32m    235\u001b[0m \u001b[38;5;28mself\u001b[39m\u001b[38;5;241m.\u001b[39mon_search_end()\n",
      "File \u001b[0;32m~/.local/lib/python3.10/site-packages/keras_tuner/src/engine/base_tuner.py:338\u001b[0m, in \u001b[0;36mBaseTuner.on_trial_end\u001b[0;34m(self, trial)\u001b[0m\n\u001b[1;32m    332\u001b[0m \u001b[38;5;28;01mdef\u001b[39;00m \u001b[38;5;21mon_trial_end\u001b[39m(\u001b[38;5;28mself\u001b[39m, trial):\n\u001b[1;32m    333\u001b[0m \u001b[38;5;250m    \u001b[39m\u001b[38;5;124;03m\"\"\"Called at the end of a trial.\u001b[39;00m\n\u001b[1;32m    334\u001b[0m \n\u001b[1;32m    335\u001b[0m \u001b[38;5;124;03m    Args:\u001b[39;00m\n\u001b[1;32m    336\u001b[0m \u001b[38;5;124;03m        trial: A `Trial` instance.\u001b[39;00m\n\u001b[1;32m    337\u001b[0m \u001b[38;5;124;03m    \"\"\"\u001b[39;00m\n\u001b[0;32m--> 338\u001b[0m     \u001b[38;5;28;43mself\u001b[39;49m\u001b[38;5;241;43m.\u001b[39;49m\u001b[43moracle\u001b[49m\u001b[38;5;241;43m.\u001b[39;49m\u001b[43mend_trial\u001b[49m\u001b[43m(\u001b[49m\u001b[43mtrial\u001b[49m\u001b[43m)\u001b[49m\n\u001b[1;32m    339\u001b[0m     \u001b[38;5;28mself\u001b[39m\u001b[38;5;241m.\u001b[39msave()\n",
      "File \u001b[0;32m~/.local/lib/python3.10/site-packages/keras_tuner/src/engine/oracle.py:108\u001b[0m, in \u001b[0;36msynchronized.<locals>.wrapped_func\u001b[0;34m(*args, **kwargs)\u001b[0m\n\u001b[1;32m    106\u001b[0m     LOCKS[oracle]\u001b[38;5;241m.\u001b[39macquire()\n\u001b[1;32m    107\u001b[0m     THREADS[oracle] \u001b[38;5;241m=\u001b[39m thread_name\n\u001b[0;32m--> 108\u001b[0m ret_val \u001b[38;5;241m=\u001b[39m \u001b[43mfunc\u001b[49m\u001b[43m(\u001b[49m\u001b[38;5;241;43m*\u001b[39;49m\u001b[43margs\u001b[49m\u001b[43m,\u001b[49m\u001b[43m \u001b[49m\u001b[38;5;241;43m*\u001b[39;49m\u001b[38;5;241;43m*\u001b[39;49m\u001b[43mkwargs\u001b[49m\u001b[43m)\u001b[49m\n\u001b[1;32m    109\u001b[0m \u001b[38;5;28;01mif\u001b[39;00m need_acquire:\n\u001b[1;32m    110\u001b[0m     THREADS[oracle] \u001b[38;5;241m=\u001b[39m \u001b[38;5;28;01mNone\u001b[39;00m\n",
      "File \u001b[0;32m~/.local/lib/python3.10/site-packages/keras_tuner/src/engine/oracle.py:586\u001b[0m, in \u001b[0;36mOracle.end_trial\u001b[0;34m(self, trial)\u001b[0m\n\u001b[1;32m    584\u001b[0m \u001b[38;5;28;01mif\u001b[39;00m \u001b[38;5;129;01mnot\u001b[39;00m \u001b[38;5;28mself\u001b[39m\u001b[38;5;241m.\u001b[39m_retry(trial):\n\u001b[1;32m    585\u001b[0m     \u001b[38;5;28mself\u001b[39m\u001b[38;5;241m.\u001b[39mend_order\u001b[38;5;241m.\u001b[39mappend(trial\u001b[38;5;241m.\u001b[39mtrial_id)\n\u001b[0;32m--> 586\u001b[0m     \u001b[38;5;28;43mself\u001b[39;49m\u001b[38;5;241;43m.\u001b[39;49m\u001b[43m_check_consecutive_failures\u001b[49m\u001b[43m(\u001b[49m\u001b[43m)\u001b[49m\n\u001b[1;32m    588\u001b[0m \u001b[38;5;28mself\u001b[39m\u001b[38;5;241m.\u001b[39m_save_trial(trial)\n\u001b[1;32m    589\u001b[0m \u001b[38;5;28mself\u001b[39m\u001b[38;5;241m.\u001b[39msave()\n",
      "File \u001b[0;32m~/.local/lib/python3.10/site-packages/keras_tuner/src/engine/oracle.py:543\u001b[0m, in \u001b[0;36mOracle._check_consecutive_failures\u001b[0;34m(self)\u001b[0m\n\u001b[1;32m    541\u001b[0m     consecutive_failures \u001b[38;5;241m=\u001b[39m \u001b[38;5;241m0\u001b[39m\n\u001b[1;32m    542\u001b[0m \u001b[38;5;28;01mif\u001b[39;00m consecutive_failures \u001b[38;5;241m==\u001b[39m \u001b[38;5;28mself\u001b[39m\u001b[38;5;241m.\u001b[39mmax_consecutive_failed_trials:\n\u001b[0;32m--> 543\u001b[0m     \u001b[38;5;28;01mraise\u001b[39;00m \u001b[38;5;167;01mRuntimeError\u001b[39;00m(\n\u001b[1;32m    544\u001b[0m         \u001b[38;5;124m\"\u001b[39m\u001b[38;5;124mNumber of consecutive failures exceeded the limit \u001b[39m\u001b[38;5;124m\"\u001b[39m\n\u001b[1;32m    545\u001b[0m         \u001b[38;5;124mf\u001b[39m\u001b[38;5;124m\"\u001b[39m\u001b[38;5;124mof \u001b[39m\u001b[38;5;132;01m{\u001b[39;00m\u001b[38;5;28mself\u001b[39m\u001b[38;5;241m.\u001b[39mmax_consecutive_failed_trials\u001b[38;5;132;01m}\u001b[39;00m\u001b[38;5;124m.\u001b[39m\u001b[38;5;130;01m\\n\u001b[39;00m\u001b[38;5;124m\"\u001b[39m\n\u001b[1;32m    546\u001b[0m         \u001b[38;5;241m+\u001b[39m (trial\u001b[38;5;241m.\u001b[39mmessage \u001b[38;5;129;01mor\u001b[39;00m \u001b[38;5;124m\"\u001b[39m\u001b[38;5;124m\"\u001b[39m)\n\u001b[1;32m    547\u001b[0m     )\n",
      "\u001b[0;31mRuntimeError\u001b[0m: Number of consecutive failures exceeded the limit of 3.\nTraceback (most recent call last):\n  File \"/home/anthon/.local/lib/python3.10/site-packages/keras_tuner/src/engine/base_tuner.py\", line 273, in _try_run_and_update_trial\n    self._run_and_update_trial(trial, *fit_args, **fit_kwargs)\n  File \"/home/anthon/.local/lib/python3.10/site-packages/keras_tuner/src/engine/base_tuner.py\", line 238, in _run_and_update_trial\n    results = self.run_trial(trial, *fit_args, **fit_kwargs)\n  File \"/home/anthon/.local/lib/python3.10/site-packages/keras_tuner/src/engine/tuner.py\", line 314, in run_trial\n    obj_value = self._build_and_fit_model(trial, *args, **copied_kwargs)\n  File \"/home/anthon/.local/lib/python3.10/site-packages/keras_tuner/src/engine/tuner.py\", line 233, in _build_and_fit_model\n    results = self.hypermodel.fit(hp, model, *args, **kwargs)\n  File \"/home/anthon/.local/lib/python3.10/site-packages/keras_tuner/src/engine/hypermodel.py\", line 149, in fit\n    return model.fit(*args, **kwargs)\n  File \"/home/anthon/.local/lib/python3.10/site-packages/keras/src/utils/traceback_utils.py\", line 70, in error_handler\n    raise e.with_traceback(filtered_tb) from None\n  File \"/home/anthon/.local/lib/python3.10/site-packages/tensorflow/python/framework/constant_op.py\", line 103, in convert_to_eager_tensor\n    return ops.EagerTensor(value, ctx.device_name, dtype)\nValueError: Failed to convert a NumPy array to a Tensor (Unsupported object type Timestamp).\n"
     ]
    }
   ],
   "source": [
    "# hyperparameters\n",
    "tuner.search(x=train_df[:1468], y=val_df, epochs=5, validation_data=(train_df[:1468], val_df))"
   ]
  },
  {
   "cell_type": "code",
   "execution_count": null,
   "metadata": {},
   "outputs": [],
   "source": [
    "best_hps = tuner.get_best_hyperparameters(num_trials=1)[0]"
   ]
  },
  {
   "cell_type": "code",
   "execution_count": null,
   "metadata": {},
   "outputs": [],
   "source": [
    "final_model = tuner.hypermodel.build(best_hps)"
   ]
  },
  {
   "cell_type": "code",
   "execution_count": null,
   "metadata": {},
   "outputs": [],
   "source": [
    "# ---------------------------------------------------------------------------\n",
    "# RuntimeError                              Traceback (most recent call last)\n",
    "# Cell In[194], line 2\n",
    "#       1 # hyperparameters\n",
    "# ----> 2 tuner.search(x=X_train, y=y_train, epochs=5, validation_data=(X_val, y_val))\n",
    "#       3 best_hps = tuner.get_best_hyperparameters(num_trials=1)[0]\n",
    "#       5 # Build final model\n",
    "\n",
    "# File ~/.local/lib/python3.10/site-packages/keras_tuner/src/engine/base_tuner.py:234, in BaseTuner.search(self, *fit_args, **fit_kwargs)\n",
    "#     232     self.on_trial_begin(trial)\n",
    "#     233     self._try_run_and_update_trial(trial, *fit_args, **fit_kwargs)\n",
    "# --> 234     self.on_trial_end(trial)\n",
    "#     235 self.on_search_end()\n",
    "\n",
    "# File ~/.local/lib/python3.10/site-packages/keras_tuner/src/engine/base_tuner.py:338, in BaseTuner.on_trial_end(self, trial)\n",
    "#     332 def on_trial_end(self, trial):\n",
    "#     333     \"\"\"Called at the end of a trial.\n",
    "#     334 \n",
    "#     335     Args:\n",
    "#     336         trial: A `Trial` instance.\n",
    "#     337     \"\"\"\n",
    "# --> 338     self.oracle.end_trial(trial)\n",
    "#     339     self.save()\n",
    "\n",
    "# File ~/.local/lib/python3.10/site-packages/keras_tuner/src/engine/oracle.py:108, in synchronized.<locals>.wrapped_func(*args, **kwargs)\n",
    "#     106     LOCKS[oracle].acquire()\n",
    "#     107     THREADS[oracle] = thread_name\n",
    "# --> 108 ret_val = func(*args, **kwargs)\n",
    "#     109 if need_acquire:\n",
    "#     110     THREADS[oracle] = None\n",
    "\n",
    "# File ~/.local/lib/python3.10/site-packages/keras_tuner/src/engine/oracle.py:586, in Oracle.end_trial(self, trial)\n",
    "#     584 if not self._retry(trial):\n",
    "#     585     self.end_order.append(trial.trial_id)\n",
    "# --> 586     self._check_consecutive_failures()\n",
    "#     588 self._save_trial(trial)\n",
    "#     589 self.save()\n",
    "\n",
    "# File ~/.local/lib/python3.10/site-packages/keras_tuner/src/engine/oracle.py:543, in Oracle._check_consecutive_failures(self)\n",
    "#     541     consecutive_failures = 0\n",
    "#     542 if consecutive_failures == self.max_consecutive_failed_trials:\n",
    "# --> 543     raise RuntimeError(\n",
    "#     544         \"Number of consecutive failures exceeded the limit \"\n",
    "#     545         f\"of {self.max_consecutive_failed_trials}.\\n\"\n",
    "#     546         + (trial.message or \"\")\n",
    "#     547     )\n",
    "\n",
    "# RuntimeError: Number of consecutive failures exceeded the limit of 3.\n",
    "# Traceback (most recent call last):\n",
    "#   File \"/home/anthon/.local/lib/python3.10/site-packages/keras_tuner/src/engine/base_tuner.py\", line 273, in _try_run_and_update_trial\n",
    "#     self._run_and_update_trial(trial, *fit_args, **fit_kwargs)\n",
    "#   File \"/home/anthon/.local/lib/python3.10/site-packages/keras_tuner/src/engine/base_tuner.py\", line 238, in _run_and_update_trial\n",
    "#     results = self.run_trial(trial, *fit_args, **fit_kwargs)\n",
    "#   File \"/home/anthon/.local/lib/python3.10/site-packages/keras_tuner/src/engine/tuner.py\", line 314, in run_trial\n",
    "#     obj_value = self._build_and_fit_model(trial, *args, **copied_kwargs)\n",
    "#   File \"/home/anthon/.local/lib/python3.10/site-packages/keras_tuner/src/engine/tuner.py\", line 233, in _build_and_fit_model\n",
    "#     results = self.hypermodel.fit(hp, model, *args, **kwargs)\n",
    "#   File \"/home/anthon/.local/lib/python3.10/site-packages/keras_tuner/src/engine/hypermodel.py\", line 149, in fit\n",
    "#     return model.fit(*args, **kwargs)\n",
    "#   File \"/home/anthon/.local/lib/python3.10/site-packages/keras/src/utils/traceback_utils.py\", line 70, in error_handler\n",
    "#     raise e.with_traceback(filtered_tb) from None\n",
    "#   File \"/home/anthon/.local/lib/python3.10/site-packages/keras/src/engine/data_adapter.py\", line 1105, in select_data_adapter\n",
    "#     raise ValueError(\n",
    "# ValueError: Failed to find data adapter that can handle input: <class 'pandas.core.frame.DataFrame'>, <class 'pandas.core.indexes.base.Index'>\n"
   ]
  },
  {
   "cell_type": "code",
   "execution_count": null,
   "metadata": {
    "id": "CdNRT4QdtVsd"
   },
   "outputs": [],
   "source": [
    "#Treinamento de modelo\n",
    "\n",
    "# Train the final model\n",
    "final_model.fit(train_features, train_labels, epochs=10, validation_data=(val_features, val_labels))"
   ]
  }
 ],
 "metadata": {
  "colab": {
   "provenance": []
  },
  "kernelspec": {
   "display_name": "Python 3 (ipykernel)",
   "language": "python",
   "name": "python3"
  },
  "language_info": {
   "codemirror_mode": {
    "name": "ipython",
    "version": 3
   },
   "file_extension": ".py",
   "mimetype": "text/x-python",
   "name": "python",
   "nbconvert_exporter": "python",
   "pygments_lexer": "ipython3",
   "version": "3.10.12"
  }
 },
 "nbformat": 4,
 "nbformat_minor": 4
}
